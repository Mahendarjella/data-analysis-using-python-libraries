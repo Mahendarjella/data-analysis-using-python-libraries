{
 "cells": [
  {
   "cell_type": "code",
   "execution_count": 1,
   "id": "55826f04-ed05-4611-88fd-53b699fc7237",
   "metadata": {},
   "outputs": [
    {
     "name": "stderr",
     "output_type": "stream",
     "text": [
      "C:\\Users\\HP\\AppData\\Local\\Temp\\ipykernel_7328\\1436530182.py:6: FutureWarning: DataFrame.fillna with 'method' is deprecated and will raise in a future version. Use obj.ffill() or obj.bfill() instead.\n",
      "  df.fillna(method=\"ffill\",inplace=True)\n",
      "C:\\Users\\HP\\AppData\\Local\\Temp\\ipykernel_7328\\1436530182.py:7: FutureWarning: DataFrame.fillna with 'method' is deprecated and will raise in a future version. Use obj.ffill() or obj.bfill() instead.\n",
      "  df.fillna(method=\"bfill\",inplace=True)\n"
     ]
    },
    {
     "name": "stdout",
     "output_type": "stream",
     "text": [
      "0.8506493506493507\n",
      "[[ 23  20]\n",
      " [  3 108]]\n"
     ]
    },
    {
     "name": "stderr",
     "output_type": "stream",
     "text": [
      "F:\\anaconda\\Lib\\site-packages\\sklearn\\linear_model\\_logistic.py:469: ConvergenceWarning: lbfgs failed to converge (status=1):\n",
      "STOP: TOTAL NO. of ITERATIONS REACHED LIMIT.\n",
      "\n",
      "Increase the number of iterations (max_iter) or scale the data as shown in:\n",
      "    https://scikit-learn.org/stable/modules/preprocessing.html\n",
      "Please also refer to the documentation for alternative solver options:\n",
      "    https://scikit-learn.org/stable/modules/linear_model.html#logistic-regression\n",
      "  n_iter_i = _check_optimize_result(\n"
     ]
    }
   ],
   "source": [
    "\n",
    "\n",
    "\n",
    "\n",
    "df1=pd.get_dummies(df,columns=[\"Gender\",\"Married\",\"Dependents\",\"Education\",\"Self_Employed\",\"Property_Area\",\"Loan_Status\"])\n",
    "\n",
    "df1.dtypes\n",
    "df1.drop(\"Gender_Female\",axis=1,inplace=True)\n",
    "df1.drop(\"Married_No\",axis=1,inplace=True)\n",
    "df1.drop(\"Education_Graduate\",axis=1,inplace=True)\n",
    "df1.drop(\"Self_Employed_No\",axis=1,inplace=True)\n",
    "df1.drop(\"Property_Area_Rural\",axis=1,inplace=True)\n",
    "df1.drop(\"Loan_Status_N\",axis=1,inplace=True)\n",
    "df1.drop(\"Dependents_3+\",axis=1,inplace=True)\n",
    "\n",
    "\n",
    "x=df1.iloc[:,2:15]\n",
    "y=df1.iloc[:,-1]\n",
    "\n",
    "from sklearn.model_selection import train_test_split\n",
    "x_train,x_test,y_train,y_test=train_test_split(x,y,test_size=0.25,random_state=(0))\n",
    "\n",
    "from sklearn.linear_model import LogisticRegression\n",
    "m1=LogisticRegression()\n",
    "m1.fit(x_train, y_train)\n",
    "y_pred=m1.predict(x_test)\n",
    "\n",
    "from sklearn.metrics import accuracy_score,confusion_matrix\n",
    "acc=accuracy_score(y_test, y_pred)\n",
    "c=confusion_matrix(y_test,y_pred)\n",
    "print(acc)\n",
    "print(c)\n"
   ]
  },
  {
   "cell_type": "code",
   "execution_count": null,
   "id": "4fe3edf6-dcda-423d-a754-126e98935886",
   "metadata": {},
   "outputs": [],
   "source": [
    "import pandas as pd\n",
    "df=pd.read_csv(\"C:\\\\Users\\\\HP\\\\Desktop\\\\programs\\\\loan_sanction.csv\")\n"
   ]
  },
  {
   "cell_type": "code",
   "execution_count": null,
   "id": "d0b1dd9a-a896-4b9b-852a-be88faf47b91",
   "metadata": {},
   "outputs": [],
   "source": [
    "df.isnull().sum()\n",
    "\n",
    "df.fillna(method=\"ffill\",inplace=True)\n",
    "df.fillna(method=\"bfill\",inplace=True)"
   ]
  },
  {
   "cell_type": "code",
   "execution_count": null,
   "id": "0b38b405-9dec-4150-84e9-8290a675cbb9",
   "metadata": {},
   "outputs": [],
   "source": []
  },
  {
   "cell_type": "code",
   "execution_count": null,
   "id": "1e887553-1544-40ec-8250-5fdd32464dca",
   "metadata": {},
   "outputs": [],
   "source": []
  },
  {
   "cell_type": "code",
   "execution_count": null,
   "id": "13b4314f-db91-4315-8d23-d37086b35843",
   "metadata": {},
   "outputs": [],
   "source": []
  }
 ],
 "metadata": {
  "kernelspec": {
   "display_name": "Python 3 (ipykernel)",
   "language": "python",
   "name": "python3"
  },
  "language_info": {
   "codemirror_mode": {
    "name": "ipython",
    "version": 3
   },
   "file_extension": ".py",
   "mimetype": "text/x-python",
   "name": "python",
   "nbconvert_exporter": "python",
   "pygments_lexer": "ipython3",
   "version": "3.12.4"
  }
 },
 "nbformat": 4,
 "nbformat_minor": 5
}
